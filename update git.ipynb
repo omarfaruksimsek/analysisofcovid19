{
 "cells": [
  {
   "cell_type": "markdown",
   "metadata": {},
   "source": [
    "1. Clone the repository from GitHub to your local device:\n",
    "git clone <YOUR HTTPS URL FROM GITHUB>"
   ]
  },
  {
   "cell_type": "markdown",
   "metadata": {},
   "source": [
    "2. Make your changes, and commit them to GitHub:\n",
    "git add .\n",
    "git commit -m \"<YOUR COMMIT MESSAGE>\"\n",
    "git push origin <YOUR BRANCH NAME>"
   ]
  },
  {
   "cell_type": "markdown",
   "metadata": {},
   "source": [
    "3. Login to your Heroku account:\n",
    "heroku login"
   ]
  },
  {
   "cell_type": "markdown",
   "metadata": {},
   "source": [
    "4. Set remote for your project:\n",
    "heroku git:remote -a <YOUR PROJECT NAME>"
   ]
  },
  {
   "cell_type": "markdown",
   "metadata": {},
   "source": [
    "5. Push to Heroku master to deploy updates:\n",
    "git push heroku master"
   ]
  }
 ],
 "metadata": {
  "interpreter": {
   "hash": "7ed14a9389b4eaa13b75598714bedd09671f15696da3a21789c22e1d7a3a75c7"
  },
  "kernelspec": {
   "display_name": "Python 3.9.0 64-bit ('Covid19-ZnRmMYCg': pipenv)",
   "language": "python",
   "name": "python3"
  },
  "language_info": {
   "name": "python",
   "version": "3.9.0"
  },
  "orig_nbformat": 4
 },
 "nbformat": 4,
 "nbformat_minor": 2
}
